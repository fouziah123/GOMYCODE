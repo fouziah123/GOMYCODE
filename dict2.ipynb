{
 "cells": [
  {
   "cell_type": "code",
   "execution_count": 5,
   "id": "cbd95411-6421-48b3-9b39-315973c63602",
   "metadata": {},
   "outputs": [
    {
     "name": "stdout",
     "output_type": "stream",
     "text": [
      "fouzia\n"
     ]
    }
   ],
   "source": [
    "#dans un dictionnaire on utilise \n",
    "#aussi, et : \n",
    "infos={\n",
    "    'name':'fouzia',\n",
    "    'age':46,\n",
    "    'nationalité':'marocaine',\n",
    "    'situation':'mariée',\n",
    "    'loisir':'sport',\n",
    "    'enfants':3,\n",
    "    'ville':'casa',\n",
    "    'profession':'comptable',\n",
    "}\n",
    "print(infos['name'])"
   ]
  },
  {
   "cell_type": "code",
   "execution_count": 6,
   "id": "457225e7-74c7-4969-8447-6ccf173c4104",
   "metadata": {},
   "outputs": [
    {
     "name": "stdout",
     "output_type": "stream",
     "text": [
      "{'name': 'fouzia', 'age': 46, 'nationalité': 'marocaine', 'situation': 'mariée', 'loisir': 'sport', 'enfants': 3, 'ville': 'casa', 'profession': 'comptable'}\n"
     ]
    }
   ],
   "source": [
    "infos={\n",
    "    'name':'fouzia',\n",
    "    'age':46,\n",
    "    'nationalité':'marocaine',\n",
    "    'situation':'mariée',\n",
    "    'loisir':'sport',\n",
    "    'enfants':3,\n",
    "    'ville':'casa',\n",
    "    'profession':'comptable',\n",
    "}\n",
    "print(infos)"
   ]
  },
  {
   "cell_type": "code",
   "execution_count": 7,
   "id": "2cc5c815-c617-4a7e-b0f0-21a00c00ef21",
   "metadata": {},
   "outputs": [
    {
     "name": "stdout",
     "output_type": "stream",
     "text": [
      "fouzia\n"
     ]
    }
   ],
   "source": [
    "infos={\n",
    "    'name':'fouzia',\n",
    "    'age':46,\n",
    "    'nationalité':'marocaine',\n",
    "    'situation':'mariée',\n",
    "    'loisir':'sport',\n",
    "    'enfants':3,\n",
    "    'ville':'casa',\n",
    "    'profession':'comptable',\n",
    "}\n",
    "print(infos.get(\"name\"))"
   ]
  },
  {
   "cell_type": "code",
   "execution_count": 8,
   "id": "66bd45f1-ac8c-4c2a-ad8f-e10b224185ff",
   "metadata": {},
   "outputs": [
    {
     "name": "stdout",
     "output_type": "stream",
     "text": [
      "None\n"
     ]
    }
   ],
   "source": [
    "infos={\n",
    "    'name':'fouzia',\n",
    "    'age':46,\n",
    "    'nationalité':'marocaine',\n",
    "    'situation':'mariée',\n",
    "    'loisir':'sport',\n",
    "    'enfants':3,\n",
    "    'ville':'casa',\n",
    "    'profession':'comptable',\n",
    "}\n",
    "#get permet d'imprimer et on meme temps si un article n'exite pas print none et non erreur\n",
    "print(infos.get(\"enfant\"))"
   ]
  },
  {
   "cell_type": "code",
   "execution_count": 3,
   "id": "f3c063b2-022c-425e-aeac-1b6ae872b503",
   "metadata": {},
   "outputs": [
    {
     "name": "stdout",
     "output_type": "stream",
     "text": [
      "name\n",
      "age\n",
      "nationalité\n",
      "situation\n",
      "loisir\n",
      "enfants\n",
      "ville\n",
      "profession\n"
     ]
    }
   ],
   "source": [
    "infos={\n",
    "    'name':'fouzia',\n",
    "    'age':46,\n",
    "    'nationalité':'marocaine',\n",
    "    'situation':'mariée',\n",
    "    'loisir':'sport',\n",
    "    'enfants':3,\n",
    "    'ville':'casa',\n",
    "    'profession':'comptable',\n",
    "}\n",
    "for key in infos.keys():\n",
    "    print(key)"
   ]
  },
  {
   "cell_type": "code",
   "execution_count": 5,
   "id": "0440c0e1-2185-4c9d-a006-5f4fc033887b",
   "metadata": {},
   "outputs": [
    {
     "ename": "SyntaxError",
     "evalue": "invalid syntax (969117815.py, line 11)",
     "output_type": "error",
     "traceback": [
      "\u001b[1;36m  Cell \u001b[1;32mIn[5], line 11\u001b[1;36m\u001b[0m\n\u001b[1;33m    for.item in infos.items():\u001b[0m\n\u001b[1;37m       ^\u001b[0m\n\u001b[1;31mSyntaxError\u001b[0m\u001b[1;31m:\u001b[0m invalid syntax\n"
     ]
    }
   ],
   "source": [
    "infos={\n",
    "    'name':'fouzia',\n",
    "    'age':46,\n",
    "    'nationalité':'marocaine',\n",
    "    'situation':'mariée',\n",
    "    'loisir':'sport',\n",
    "    'enfants':3,\n",
    "    'ville':'casa',\n",
    "    'profession':'comptable',\n",
    "}\n",
    "for.item in infos.items():\n",
    "    print(item)"
   ]
  },
  {
   "cell_type": "code",
   "execution_count": null,
   "id": "1ee4450a-b869-43bb-bc1f-cba783423943",
   "metadata": {},
   "outputs": [],
   "source": []
  }
 ],
 "metadata": {
  "kernelspec": {
   "display_name": "Python 3 (ipykernel)",
   "language": "python",
   "name": "python3"
  },
  "language_info": {
   "codemirror_mode": {
    "name": "ipython",
    "version": 3
   },
   "file_extension": ".py",
   "mimetype": "text/x-python",
   "name": "python",
   "nbconvert_exporter": "python",
   "pygments_lexer": "ipython3",
   "version": "3.11.7"
  }
 },
 "nbformat": 4,
 "nbformat_minor": 5
}
